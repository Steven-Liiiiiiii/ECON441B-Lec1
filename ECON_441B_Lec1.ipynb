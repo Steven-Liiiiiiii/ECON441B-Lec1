{
  "nbformat": 4,
  "nbformat_minor": 0,
  "metadata": {
    "colab": {
      "provenance": []
    },
    "kernelspec": {
      "name": "python3",
      "display_name": "Python 3"
    },
    "language_info": {
      "name": "python"
    }
  },
  "cells": [
    {
      "cell_type": "code",
      "execution_count": null,
      "metadata": {
        "id": "Y_9bk6EVPEFC"
      },
      "outputs": [],
      "source": [
        "import pandas as pd\n",
        "import matplotlib.pyplot as plt\n",
        "import wooldridge as woo\n",
        "import seaborn as sns\n",
        "from google.colab import drive"
      ]
    },
    {
      "cell_type": "code",
      "source": [
        "drive.mount('/content/gdrive/', force_remount = True)"
      ],
      "metadata": {
        "colab": {
          "base_uri": "https://localhost:8080/"
        },
        "id": "qCpWphsaPd4C",
        "outputId": "90809891-69e6-44bb-a29b-cf48d521145c"
      },
      "execution_count": null,
      "outputs": [
        {
          "output_type": "stream",
          "name": "stdout",
          "text": [
            "Mounted at /content/gdrive/\n"
          ]
        }
      ]
    },
    {
      "cell_type": "code",
      "source": [
        "df = woo.data(\"wage2\")"
      ],
      "metadata": {
        "id": "6x0KzhqmPwSE"
      },
      "execution_count": null,
      "outputs": []
    },
    {
      "cell_type": "code",
      "source": [
        "df.head"
      ],
      "metadata": {
        "colab": {
          "base_uri": "https://localhost:8080/"
        },
        "id": "6wRtYMruQy0E",
        "outputId": "6d017d8a-8d83-4001-d1b1-7fa58cf98eda"
      },
      "execution_count": null,
      "outputs": [
        {
          "output_type": "execute_result",
          "data": {
            "text/plain": [
              "<bound method NDFrame.head of      wage  hours   IQ  KWW  educ  exper  tenure  age  married  black  south  \\\n",
              "0     769     40   93   35    12     11       2   31        1      0      0   \n",
              "1     808     50  119   41    18     11      16   37        1      0      0   \n",
              "2     825     40  108   46    14     11       9   33        1      0      0   \n",
              "3     650     40   96   32    12     13       7   32        1      0      0   \n",
              "4     562     40   74   27    11     14       5   34        1      0      0   \n",
              "..    ...    ...  ...  ...   ...    ...     ...  ...      ...    ...    ...   \n",
              "930   520     40   79   28    16      6       1   30        1      1      1   \n",
              "931  1202     40  102   32    13     10       3   31        1      0      1   \n",
              "932   538     45   77   22    12     12      10   28        1      1      1   \n",
              "933   873     44  109   25    12     12      12   28        1      0      1   \n",
              "934  1000     40  107   32    12     17      18   35        1      0      1   \n",
              "\n",
              "     urban  sibs  brthord  meduc  feduc     lwage  \n",
              "0        1     1      2.0    8.0    8.0  6.645091  \n",
              "1        1     1      NaN   14.0   14.0  6.694562  \n",
              "2        1     1      2.0   14.0   14.0  6.715384  \n",
              "3        1     4      3.0   12.0   12.0  6.476973  \n",
              "4        1    10      6.0    6.0   11.0  6.331502  \n",
              "..     ...   ...      ...    ...    ...       ...  \n",
              "930      0     0      1.0   11.0    NaN  6.253829  \n",
              "931      1     7      7.0    8.0    6.0  7.091742  \n",
              "932      0     9      NaN    7.0    NaN  6.287858  \n",
              "933      0     1      1.0    NaN   11.0  6.771935  \n",
              "934      0     5      1.0    NaN    NaN  6.907755  \n",
              "\n",
              "[935 rows x 17 columns]>"
            ]
          },
          "metadata": {},
          "execution_count": 30
        }
      ]
    },
    {
      "cell_type": "code",
      "source": [
        "plt.figure(figsize = (10,5))\n",
        "plt.title(\"Histogram of monthly earning\")\n",
        "sns.histplot(df.wage, stat = \"density\")\n",
        "sns.kdeplot(df.wage, color = \"red\")\n",
        "plt.grid(True)"
      ],
      "metadata": {
        "colab": {
          "base_uri": "https://localhost:8080/",
          "height": 350
        },
        "id": "jjBuQdcpRLAy",
        "outputId": "567f59ca-bba0-417f-cabb-0e6091ee0dbf"
      },
      "execution_count": null,
      "outputs": [
        {
          "output_type": "display_data",
          "data": {
            "text/plain": [
              "<Figure size 720x360 with 1 Axes>"
            ],
            "image/png": "[encoded data removed]"
          },
          "metadata": {
            "needs_background": "light"
          }
        }
      ]
    }
  ]
}